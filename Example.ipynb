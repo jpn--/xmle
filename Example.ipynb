{
 "cells": [
  {
   "cell_type": "code",
   "execution_count": 1,
   "metadata": {},
   "outputs": [],
   "source": [
    "import xmle\n",
    "from xmle import Reporter, NumberedCaption, Elem"
   ]
  },
  {
   "cell_type": "code",
   "execution_count": 2,
   "metadata": {},
   "outputs": [
    {
     "data": {
      "text/plain": [
       "'0.1.2'"
      ]
     },
     "execution_count": 2,
     "metadata": {},
     "output_type": "execute_result"
    }
   ],
   "source": [
    "xmle.__version__"
   ]
  },
  {
   "cell_type": "code",
   "execution_count": 3,
   "metadata": {},
   "outputs": [],
   "source": [
    "R = xmle.Reporter()"
   ]
  },
  {
   "cell_type": "code",
   "execution_count": 4,
   "metadata": {},
   "outputs": [],
   "source": [
    "FIG = NumberedCaption('Figure')"
   ]
  },
  {
   "cell_type": "code",
   "execution_count": 5,
   "metadata": {
    "toc-hr-collapsed": false
   },
   "outputs": [
    {
     "data": {
      "text/html": [
       "<h1><a class=\"toc\" name=\"rx1\" reftxt=\"A Title is Born\" toclevel=\"1\"></a>A Title is Born</h1>"
      ],
      "text/plain": [
       "<xmle.Elem 'div' with 1 children>"
      ]
     },
     "execution_count": 5,
     "metadata": {},
     "output_type": "execute_result"
    }
   ],
   "source": [
    "R << \"# A Title is Born\""
   ]
  },
  {
   "cell_type": "code",
   "execution_count": 6,
   "metadata": {},
   "outputs": [
    {
     "data": {
      "text/html": [
       "<div class=\"blurb\" id=\"documentus-extraneum\">\n",
       "<h3 class=\"title\">Documentus Extraneum</h3>\n",
       "<p>Lorem ipsum dolor sit amet, consectetur adipiscing elit, sed do eiusmod tempor\n",
       "incididunt ut labore et dolore magna aliqua. Ut enim ad minim veniam, quis nostrud\n",
       "exercitation ullamco laboris nisi ut aliquip ex ea commodo consequat. Duis aute\n",
       "irure dolor in reprehenderit in voluptate velit esse cillum dolore eu fugiat nulla\n",
       "pariatur. Excepteur sint occaecat cupidatat non proident, sunt in culpa qui officia\n",
       "deserunt mollit anim id est laborum.</p>\n",
       "</div>"
      ],
      "text/plain": [
       "<xmle.Elem 'div' with 2 children>"
      ]
     },
     "execution_count": 6,
     "metadata": {},
     "output_type": "execute_result"
    }
   ],
   "source": [
    "R << xmle.Elem.from_rst(\"\"\"\n",
    "\n",
    "Documentus Extraneum\n",
    "--------------------\n",
    "\n",
    "Lorem ipsum dolor sit amet, consectetur adipiscing elit, sed do eiusmod tempor \n",
    "incididunt ut labore et dolore magna aliqua. Ut enim ad minim veniam, quis nostrud \n",
    "exercitation ullamco laboris nisi ut aliquip ex ea commodo consequat. Duis aute \n",
    "irure dolor in reprehenderit in voluptate velit esse cillum dolore eu fugiat nulla \n",
    "pariatur. Excepteur sint occaecat cupidatat non proident, sunt in culpa qui officia \n",
    "deserunt mollit anim id est laborum.\n",
    "\n",
    "\n",
    "\"\"\")"
   ]
  },
  {
   "cell_type": "code",
   "execution_count": 7,
   "metadata": {},
   "outputs": [],
   "source": [
    "import networkx\n",
    "g = networkx.DiGraph()\n",
    "for i in range(3):\n",
    "    g.add_edge(i, i+1)\n",
    "    g.add_edge(-1, i)\n",
    "    g.add_edge(i, 999)"
   ]
  },
  {
   "cell_type": "code",
   "execution_count": 8,
   "metadata": {},
   "outputs": [
    {
     "data": {
      "text/html": [
       "<h2><a class=\"toc\" name=\"rx2\" reftxt=\"Network Graph Example\" toclevel=\"2\"></a><span class=\"larch_figure_caption larch_caption\" larch_caption=\"Figure\">Figure: </span>Network Graph Example</h2><svg xmlns=\"http://www.w3.org/2000/svg\" height=\"332pt\" viewBox=\"0.00 0.00 164.00 332.00\" width=\"164pt\">\n",
       "<g class=\"graph\" id=\"graph0\" transform=\"scale(1 1) rotate(0) translate(4 328)\">\n",
       "<title>%3</title>\n",
       "<polygon fill=\"white\" points=\"-4,4 -4,-328 160,-328 160,4 -4,4\" stroke=\"none\"></polygon>\n",
       "\n",
       "<g class=\"node\" id=\"node1\"><title>0</title>\n",
       "<ellipse cx=\"27\" cy=\"-234\" fill=\"none\" rx=\"27\" ry=\"18\" stroke=\"black\"></ellipse>\n",
       "<text font-family=\"Times,serif\" font-size=\"14.00\" text-anchor=\"middle\" x=\"27\" y=\"-229.8\">0</text>\n",
       "</g>\n",
       "\n",
       "<g class=\"node\" id=\"node2\"><title>1</title>\n",
       "<ellipse cx=\"73\" cy=\"-162\" fill=\"none\" rx=\"27\" ry=\"18\" stroke=\"black\"></ellipse>\n",
       "<text font-family=\"Times,serif\" font-size=\"14.00\" text-anchor=\"middle\" x=\"73\" y=\"-157.8\">1</text>\n",
       "</g>\n",
       "\n",
       "<g class=\"edge\" id=\"edge1\"><title>0-&gt;1</title>\n",
       "<path d=\"M37.4381,-217.116C43.2019,-208.345 50.4839,-197.264 56.955,-187.416\" fill=\"none\" stroke=\"black\"></path>\n",
       "<polygon fill=\"black\" points=\"60.0363,-189.1 62.6032,-178.821 54.1864,-185.256 60.0363,-189.1\" stroke=\"black\"></polygon>\n",
       "</g>\n",
       "\n",
       "<g class=\"node\" id=\"node4\"><title>999</title>\n",
       "<ellipse cx=\"57\" cy=\"-18\" fill=\"none\" rx=\"27\" ry=\"18\" stroke=\"black\"></ellipse>\n",
       "<text font-family=\"Times,serif\" font-size=\"14.00\" text-anchor=\"middle\" x=\"57\" y=\"-13.8\">999</text>\n",
       "</g>\n",
       "\n",
       "<g class=\"edge\" id=\"edge2\"><title>0-&gt;999</title>\n",
       "<path d=\"M28.6807,-215.909C30.5008,-197.969 33.603,-168.959 37,-144 41.6163,-110.083 48.0184,-71.1674 52.3247,-45.89\" fill=\"none\" stroke=\"black\"></path>\n",
       "<polygon fill=\"black\" points=\"55.7893,-46.3939 54.0307,-35.9461 48.8901,-45.2103 55.7893,-46.3939\" stroke=\"black\"></polygon>\n",
       "</g>\n",
       "\n",
       "<g class=\"edge\" id=\"edge4\"><title>1-&gt;999</title>\n",
       "<path d=\"M71.07,-143.871C68.3431,-119.67 63.3336,-75.2108 60.0866,-46.3932\" fill=\"none\" stroke=\"black\"></path>\n",
       "<polygon fill=\"black\" points=\"63.5346,-45.7345 58.9368,-36.1893 56.5786,-46.5183 63.5346,-45.7345\" stroke=\"black\"></polygon>\n",
       "</g>\n",
       "\n",
       "<g class=\"node\" id=\"node5\"><title>2</title>\n",
       "<ellipse cx=\"123\" cy=\"-90\" fill=\"none\" rx=\"27\" ry=\"18\" stroke=\"black\"></ellipse>\n",
       "<text font-family=\"Times,serif\" font-size=\"14.00\" text-anchor=\"middle\" x=\"123\" y=\"-85.8\">2</text>\n",
       "</g>\n",
       "\n",
       "<g class=\"edge\" id=\"edge3\"><title>1-&gt;2</title>\n",
       "<path d=\"M84.0966,-145.465C90.5052,-136.493 98.7011,-125.019 105.916,-114.918\" fill=\"none\" stroke=\"black\"></path>\n",
       "<polygon fill=\"black\" points=\"108.97,-116.664 111.934,-106.492 103.274,-112.595 108.97,-116.664\" stroke=\"black\"></polygon>\n",
       "</g>\n",
       "\n",
       "<g class=\"node\" id=\"node3\"><title>-1</title>\n",
       "<ellipse cx=\"82\" cy=\"-306\" fill=\"none\" rx=\"27\" ry=\"18\" stroke=\"black\"></ellipse>\n",
       "<text font-family=\"Times,serif\" font-size=\"14.00\" text-anchor=\"middle\" x=\"82\" y=\"-301.8\">-1</text>\n",
       "</g>\n",
       "\n",
       "<g class=\"edge\" id=\"edge5\"><title>-1-&gt;0</title>\n",
       "<path d=\"M70.0658,-289.811C62.7864,-280.546 53.3374,-268.52 45.1456,-258.094\" fill=\"none\" stroke=\"black\"></path>\n",
       "<polygon fill=\"black\" points=\"47.8413,-255.86 38.9109,-250.159 42.337,-260.185 47.8413,-255.86\" stroke=\"black\"></polygon>\n",
       "</g>\n",
       "\n",
       "<g class=\"edge\" id=\"edge6\"><title>-1-&gt;1</title>\n",
       "<path d=\"M80.9144,-287.871C79.3805,-263.67 76.5627,-219.211 74.7362,-190.393\" fill=\"none\" stroke=\"black\"></path>\n",
       "<polygon fill=\"black\" points=\"78.2151,-189.948 74.0895,-180.189 71.2291,-190.391 78.2151,-189.948\" stroke=\"black\"></polygon>\n",
       "</g>\n",
       "\n",
       "<g class=\"edge\" id=\"edge7\"><title>-1-&gt;2</title>\n",
       "<path d=\"M85.9743,-288.078C91.5315,-264.106 101.755,-218.849 109,-180 112.847,-159.372 116.507,-135.922 119.119,-118.273\" fill=\"none\" stroke=\"black\"></path>\n",
       "<polygon fill=\"black\" points=\"122.621,-118.512 120.602,-108.111 115.695,-117.501 122.621,-118.512\" stroke=\"black\"></polygon>\n",
       "</g>\n",
       "\n",
       "<g class=\"edge\" id=\"edge9\"><title>2-&gt;999</title>\n",
       "<path d=\"M109.003,-74.1548C99.9903,-64.5957 88.1086,-51.994 77.9779,-41.2493\" fill=\"none\" stroke=\"black\"></path>\n",
       "<polygon fill=\"black\" points=\"80.3835,-38.6987 70.9767,-33.8238 75.2903,-43.5008 80.3835,-38.6987\" stroke=\"black\"></polygon>\n",
       "</g>\n",
       "\n",
       "<g class=\"node\" id=\"node6\"><title>3</title>\n",
       "<ellipse cx=\"129\" cy=\"-18\" fill=\"none\" rx=\"27\" ry=\"18\" stroke=\"black\"></ellipse>\n",
       "<text font-family=\"Times,serif\" font-size=\"14.00\" text-anchor=\"middle\" x=\"129\" y=\"-13.8\">3</text>\n",
       "</g>\n",
       "\n",
       "<g class=\"edge\" id=\"edge8\"><title>2-&gt;3</title>\n",
       "<path d=\"M124.483,-71.6966C125.144,-63.9827 125.939,-54.7125 126.676,-46.1124\" fill=\"none\" stroke=\"black\"></path>\n",
       "<polygon fill=\"black\" points=\"130.167,-46.3667 127.534,-36.1043 123.193,-45.7689 130.167,-46.3667\" stroke=\"black\"></polygon>\n",
       "</g>\n",
       "</g>\n",
       "</svg>"
      ],
      "text/plain": [
       "<xmle.Elem 'div' with 4 children>"
      ]
     },
     "execution_count": 8,
     "metadata": {},
     "output_type": "execute_result"
    }
   ],
   "source": [
    "R << FIG('Network Graph Example', anchor=True)\n",
    "R << Elem.from_any(networkx.drawing.nx_pydot.to_pydot(g).create_svg())"
   ]
  },
  {
   "cell_type": "code",
   "execution_count": 9,
   "metadata": {},
   "outputs": [],
   "source": [
    "from io import BytesIO, StringIO, TextIOBase, RawIOBase, BufferedIOBase\n",
    "b = BytesIO()"
   ]
  },
  {
   "cell_type": "code",
   "execution_count": 10,
   "metadata": {},
   "outputs": [
    {
     "data": {
      "text/plain": [
       "'/tmp/123.html'"
      ]
     },
     "execution_count": 10,
     "metadata": {},
     "output_type": "execute_result"
    }
   ],
   "source": [
    "R.save('/tmp/123.html', overwrite=True, metadata={'g':g, })"
   ]
  },
  {
   "cell_type": "code",
   "execution_count": 11,
   "metadata": {},
   "outputs": [
    {
     "data": {
      "text/plain": [
       "{'g': <networkx.classes.digraph.DiGraph at 0xa20663fd0>}"
      ]
     },
     "execution_count": 11,
     "metadata": {},
     "output_type": "execute_result"
    }
   ],
   "source": [
    "meta = xmle.load_metadata('/tmp/123.html')\n",
    "meta"
   ]
  },
  {
   "cell_type": "code",
   "execution_count": 12,
   "metadata": {},
   "outputs": [],
   "source": [
    "import local_logo"
   ]
  },
  {
   "cell_type": "code",
   "execution_count": 13,
   "metadata": {},
   "outputs": [
    {
     "data": {
      "text/plain": [
       "'iVBORw0KGgoAAAANSUhEUgAAACAAAAAgCAYAAABzenr0AAAABHNCSVQICAgIfAhkiAAAAAZiS0dEAAAAAAAA+UO7fwAAAlxJREFUWIXtlE1IVFEYhp9vZpyx0Rkbo1olBRKEUAuNxiSwKIlyEUEudFf0s4kyEduVENEixCSCNgrVpqCFBIFIhFkEIVSLNlYEWUpo9zrjDzk/92sRkunM3LnXaNO8y3Nevvf5zjnfgYIK+t8lmRbPPq4MBP3hq4q0CpLRk1WqMQu6E75U9429b6ddASyqY7C6XkXuCGxyBOEAxLa7c093rA2kfTcFaXEMkQeIMGR0oHoGyQ1TZQ2WHEjfKg8w7/mbIL9CnxmHUe0FNuSqEdIpDqWvs1lfu2LIBPK76+GZ9ViJXqDRpgLVVj/brYGsDp8uzAfT5qSoajZPCt/c1/i2RyuPfcg4DdoFBG27yaGi6TlCH8chC4MqliXSlPneh+NbsRL3QHauBsJvzFD6aQIyMKQtOR5rj/ZlflB7wqOUrKsDuQJYbgES5SHmKjauDEdbY+3RPshjDBk26rD0LrDFLUjxN5Pg2CQACp1mW+3lxb38frnnUyHS0gWsvBJVr2chWSmWFucqsWbCoMiMd5ttu1uXrjv7Zpfr9kiwfDb5BIjaWVXpM9uiJxD540W4+1QALr3zR2aT/XmFw0OzInpyebh7gAfqjYRi9wX223pVB8x4uJkmSWfadg6gKpGxl70icsTOasELI+Q/SmdVIpvH6zQ/EjrYIyKn7Dl5I6mihh/na2Zz+RydQOTaSJmKLqjqeM5wGE36ixvMizUxu5rupuCSespKX9V7PdoMegwILwn/LClPndGx60s+pVY3hgA97wNlye+NHmhRtMYS9sUv1H5Ydd2CCiroX+kn/2/3tIdYaqMAAAAASUVORK5CYII='"
      ]
     },
     "execution_count": 13,
     "metadata": {},
     "output_type": "execute_result"
    }
   ],
   "source": [
    "local_logo.local_favicon()"
   ]
  },
  {
   "cell_type": "code",
   "execution_count": null,
   "metadata": {},
   "outputs": [],
   "source": []
  }
 ],
 "metadata": {
  "kernelspec": {
   "display_name": "Python [conda env:taiga36]",
   "language": "python",
   "name": "conda-env-taiga36-py"
  },
  "language_info": {
   "codemirror_mode": {
    "name": "ipython",
    "version": 3
   },
   "file_extension": ".py",
   "mimetype": "text/x-python",
   "name": "python",
   "nbconvert_exporter": "python",
   "pygments_lexer": "ipython3",
   "version": "3.6.7"
  }
 },
 "nbformat": 4,
 "nbformat_minor": 2
}
